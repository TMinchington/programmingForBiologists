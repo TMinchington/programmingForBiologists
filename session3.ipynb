{
 "cells": [
  {
   "cell_type": "markdown",
   "metadata": {},
   "source": [
    "# Variables and how to use them\n",
    "\n",
    "- Variable are basically just named containers. \n",
    "- You can put anyting you want inside them"
   ]
  },
  {
   "cell_type": "code",
   "execution_count": 2,
   "metadata": {},
   "outputs": [],
   "source": [
    "i_am_a_variable = 1"
   ]
  },
  {
   "cell_type": "markdown",
   "metadata": {},
   "source": [
    "Notice that the code block doesn't return anything.\n",
    "\n",
    "This is because we assigned 1 to a variable called \"i_am_a_variable\" but we didn't access it. "
   ]
  },
  {
   "cell_type": "code",
   "execution_count": 3,
   "metadata": {},
   "outputs": [
    {
     "name": "stdout",
     "output_type": "stream",
     "text": [
      "1\n"
     ]
    }
   ],
   "source": [
    "print(i_am_a_variable)"
   ]
  },
  {
   "cell_type": "markdown",
   "metadata": {},
   "source": [
    "# Variable names\n",
    "\n"
   ]
  },
  {
   "cell_type": "code",
   "execution_count": null,
   "metadata": {},
   "outputs": [],
   "source": [
    "varName = 2 # need to start with a letter"
   ]
  },
  {
   "cell_type": "code",
   "execution_count": null,
   "metadata": {},
   "outputs": [],
   "source": [
    "1var = 4 # starting with numbers is not right and wont work"
   ]
  },
  {
   "cell_type": "code",
   "execution_count": null,
   "metadata": {},
   "outputs": [],
   "source": [
    "be_as_descriptive_as_you_want = \"help\" \n",
    "alsoDescriptiveButInCammelType = \"people like cammels\""
   ]
  },
  {
   "cell_type": "markdown",
   "metadata": {},
   "source": [
    "As long as you name variables in descriptive ways you can't really go wrong.\n",
    "\n",
    "Use which ever style suits you"
   ]
  },
  {
   "cell_type": "markdown",
   "metadata": {},
   "source": [
    "# Why do we need variables?\n",
    "\n",
    "Obviously for simple numbers you can just type the number.\n",
    "\n",
    "But what if you have a specific number that you want to use or refer back to multiple times in your code?\n",
    "\n",
    "Then you can assign it to a variable. "
   ]
  },
  {
   "cell_type": "code",
   "execution_count": 4,
   "metadata": {},
   "outputs": [
    {
     "name": "stdout",
     "output_type": "stream",
     "text": [
      "3.14159265359\n"
     ]
    }
   ],
   "source": [
    "pi = 3.14159265359 # do you want to type out pi every time you need it? Probably not\n",
    "\n",
    "print(pi)"
   ]
  },
  {
   "cell_type": "markdown",
   "metadata": {},
   "source": [
    "# Variables can be changed and updated\n",
    "\n",
    "You might want to create a variable that you can keep updating"
   ]
  },
  {
   "cell_type": "code",
   "execution_count": 5,
   "metadata": {},
   "outputs": [],
   "source": [
    "numberOfFriends = 10 "
   ]
  },
  {
   "cell_type": "markdown",
   "metadata": {},
   "source": [
    "Say you have 10 friends. But then one of them is awful and you want to get rid of them"
   ]
  },
  {
   "cell_type": "code",
   "execution_count": 6,
   "metadata": {},
   "outputs": [
    {
     "name": "stdout",
     "output_type": "stream",
     "text": [
      "9\n"
     ]
    }
   ],
   "source": [
    "print(numberOfFriends - 1)"
   ]
  },
  {
   "cell_type": "markdown",
   "metadata": {},
   "source": [
    "Ok so all we really did here was print the number of friends minus 1. \n",
    "\n",
    "But what if we want to update friends?"
   ]
  },
  {
   "cell_type": "code",
   "execution_count": 7,
   "metadata": {},
   "outputs": [],
   "source": [
    "numberOfFriends = numberOfFriends - 1 # we can just update the number of friends by overwriting it"
   ]
  },
  {
   "cell_type": "code",
   "execution_count": 8,
   "metadata": {},
   "outputs": [
    {
     "name": "stdout",
     "output_type": "stream",
     "text": [
      "9\n"
     ]
    }
   ],
   "source": [
    "print(numberOfFriends)"
   ]
  },
  {
   "cell_type": "markdown",
   "metadata": {},
   "source": [
    "But in python there is actually a quicker shorter way of writing this.\n",
    "\n",
    "If we want to update an existing variable we can use:\n",
    "\n",
    "+= to add to a variable\n",
    "-= to subtract from a variable\n",
    "*= to multiply a variable\n",
    "/= to divide a variable"
   ]
  },
  {
   "cell_type": "code",
   "execution_count": 9,
   "metadata": {},
   "outputs": [
    {
     "name": "stdout",
     "output_type": "stream",
     "text": [
      "4.5\n"
     ]
    }
   ],
   "source": [
    "# say that friend that left the group takes half you firends with them\n",
    "\n",
    "numberOfFriends /= 2\n",
    "\n",
    "print(numberOfFriends)"
   ]
  },
  {
   "cell_type": "code",
   "execution_count": 10,
   "metadata": {},
   "outputs": [],
   "source": [
    "originalNumberOfFriends = 10"
   ]
  },
  {
   "cell_type": "markdown",
   "metadata": {},
   "source": [
    "Because variables are just containers when you reference them the code just see whats in the containers.\n",
    "\n",
    "So you can use the variables just as if they were the thing they contain, in this case numbers."
   ]
  },
  {
   "cell_type": "code",
   "execution_count": 13,
   "metadata": {},
   "outputs": [
    {
     "name": "stdout",
     "output_type": "stream",
     "text": [
      "% of friends remaining: 45.0\n"
     ]
    }
   ],
   "source": [
    "percentageOfFriendsRemaining = numberOfFriends / originalNumberOfFriends * 100\n",
    "print(\"% of friends remaining:\", percentageOfFriendsRemaining)"
   ]
  }
 ],
 "metadata": {
  "kernelspec": {
   "display_name": "base",
   "language": "python",
   "name": "python3"
  },
  "language_info": {
   "codemirror_mode": {
    "name": "ipython",
    "version": 3
   },
   "file_extension": ".py",
   "mimetype": "text/x-python",
   "name": "python",
   "nbconvert_exporter": "python",
   "pygments_lexer": "ipython3",
   "version": "3.10.11"
  }
 },
 "nbformat": 4,
 "nbformat_minor": 2
}
