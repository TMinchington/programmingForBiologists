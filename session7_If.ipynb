{
 "cells": [
  {
   "cell_type": "markdown",
   "metadata": {},
   "source": [
    "# If statements\n",
    "\n",
    "Flow control for your code"
   ]
  },
  {
   "cell_type": "code",
   "execution_count": 1,
   "metadata": {},
   "outputs": [
    {
     "name": "stdout",
     "output_type": "stream",
     "text": [
      "Hello\n"
     ]
    }
   ],
   "source": [
    "if True:\n",
    "    print(\"Hello\")"
   ]
  },
  {
   "cell_type": "markdown",
   "metadata": {},
   "source": [
    "Here we can put our boolean practice in to practical use.\n",
    "\n",
    "- 'if' statements allow us to condtionally control which bits of our code will run\n",
    "- You can use 'if' alone or in combination with 'elif' and 'else'"
   ]
  },
  {
   "cell_type": "code",
   "execution_count": 4,
   "metadata": {},
   "outputs": [
    {
     "name": "stdout",
     "output_type": "stream",
     "text": [
      "Smile\n"
     ]
    }
   ],
   "source": [
    "happy = True\n",
    "\n",
    "if happy:\n",
    "    print(\"Smile\")\n",
    "\n",
    "else:\n",
    "    print(\"Frown\")"
   ]
  },
  {
   "cell_type": "markdown",
   "metadata": {},
   "source": [
    "So what is happen here is, if the first statement is True then the code does that (Smile). Otherwise \"else\" if does the other thing (Frown)."
   ]
  },
  {
   "cell_type": "markdown",
   "metadata": {},
   "source": [
    "### Order of operations is important here "
   ]
  },
  {
   "cell_type": "code",
   "execution_count": 9,
   "metadata": {},
   "outputs": [],
   "source": [
    "number_to_check = 11"
   ]
  },
  {
   "cell_type": "code",
   "execution_count": 6,
   "metadata": {},
   "outputs": [
    {
     "name": "stdout",
     "output_type": "stream",
     "text": [
      "bigger than 1\n"
     ]
    }
   ],
   "source": [
    "if number_to_check > 1:\n",
    "    print(\"bigger than 1\")\n",
    "\n",
    "elif number_to_check > 5:\n",
    "    print(\"bigger than 5\")\n",
    "\n",
    "else:\n",
    "    print(\"This number must be massive\")"
   ]
  },
  {
   "cell_type": "markdown",
   "metadata": {},
   "source": [
    "So why do we get this behaviour? It's because of the order of operations.\n",
    "\n",
    "- Python reads code from the top of the page to the bottom of the page\n",
    "- In 'if' statements once a condtiion is met than the statement is complete\n",
    "- So how can we fix this"
   ]
  },
  {
   "cell_type": "code",
   "execution_count": 12,
   "metadata": {},
   "outputs": [
    {
     "name": "stdout",
     "output_type": "stream",
     "text": [
      "Number is less than 5\n"
     ]
    }
   ],
   "source": [
    "number_to_check = 4 # we can change this and see what happens\n",
    "\n",
    "if number_to_check > 10:\n",
    "    print(\"This number must be massive\")\n",
    "\n",
    "elif number_to_check > 5:\n",
    "    print(\"bigger than 5\")\n",
    "\n",
    "else:\n",
    "    print(\"Number is less than 5\")"
   ]
  },
  {
   "cell_type": "markdown",
   "metadata": {},
   "source": [
    "I try not to use else statements for handling outside cases, as sometimes this could lead to unexpected behaviour.\n",
    "\n",
    "It is much better to have cases that cover your expected outputs"
   ]
  },
  {
   "cell_type": "markdown",
   "metadata": {},
   "source": [
    "------------------\n",
    "\n",
    "# Using 'if' statements with for loops"
   ]
  },
  {
   "cell_type": "code",
   "execution_count": 13,
   "metadata": {},
   "outputs": [
    {
     "name": "stdout",
     "output_type": "stream",
     "text": [
      "1\n",
      "5\n",
      "6\n",
      "10\n",
      "20\n",
      "13\n",
      "22\n",
      "92\n",
      "0\n",
      "-5\n",
      "7\n"
     ]
    }
   ],
   "source": [
    "list1 = [1, 5, 6, 10, 20, 13, 22, 92, 0, -5, 7]\n",
    "\n",
    "for number in list1:\n",
    "    print(number)"
   ]
  },
  {
   "cell_type": "markdown",
   "metadata": {},
   "source": [
    "So what if we only wanted to print numbers above a certain cuttoff.."
   ]
  },
  {
   "cell_type": "code",
   "execution_count": 14,
   "metadata": {},
   "outputs": [
    {
     "name": "stdout",
     "output_type": "stream",
     "text": [
      "20\n",
      "13\n",
      "22\n",
      "92\n"
     ]
    }
   ],
   "source": [
    "cuttoff = 10\n",
    "\n",
    "for number in list1:\n",
    "    if number > cuttoff:\n",
    "        print(number)"
   ]
  },
  {
   "cell_type": "code",
   "execution_count": 17,
   "metadata": {},
   "outputs": [
    {
     "name": "stdout",
     "output_type": "stream",
     "text": [
      "number below lower:  1\n",
      "IN RANGE: 6\n",
      "IN RANGE: 10\n",
      "IN RANGE: 13\n",
      "number above upper:  22\n",
      "number above upper:  92\n",
      "number below lower:  0\n",
      "number below lower:  -5\n",
      "IN RANGE: 7\n"
     ]
    }
   ],
   "source": [
    "upper = 20\n",
    "lower = 5\n",
    "for number in list1:\n",
    "    if number > lower and number < upper:\n",
    "        print(\"IN RANGE:\", number)\n",
    "\n",
    "    elif number < lower:\n",
    "        print(\"number below lower: \", number)\n",
    "\n",
    "    elif number > upper:\n",
    "        print(\"number above upper: \", number)\n",
    "  "
   ]
  },
  {
   "cell_type": "code",
   "execution_count": 18,
   "metadata": {},
   "outputs": [
    {
     "name": "stdout",
     "output_type": "stream",
     "text": [
      "number below lower:  1\n",
      "IN RANGE: 6\n",
      "IN RANGE: 10\n",
      "IN RANGE: 13\n",
      "number above upper:  22\n",
      "number above upper:  92\n",
      "number below lower:  0\n",
      "number below lower:  -5\n",
      "IN RANGE: 7\n"
     ]
    }
   ],
   "source": [
    "upper = 20\n",
    "lower = 5\n",
    "\n",
    "for number in list1:\n",
    "    if lower <  number < upper:\n",
    "        print(\"IN RANGE:\", number)\n",
    "\n",
    "    elif number < lower:\n",
    "        print(\"number below lower: \", number)\n",
    "\n",
    "    elif number > upper:\n",
    "        print(\"number above upper: \", number)"
   ]
  },
  {
   "cell_type": "markdown",
   "metadata": {},
   "source": [
    "# Flow controllers\n",
    "\n",
    "- We can combine if statements with flow controllers <b>break</b> and <b>continue</b>"
   ]
  },
  {
   "cell_type": "markdown",
   "metadata": {},
   "source": [
    "### continue\n",
    "\n",
    "continue : sends you back to the beginning of a loop"
   ]
  },
  {
   "cell_type": "code",
   "execution_count": 21,
   "metadata": {},
   "outputs": [
    {
     "name": "stdout",
     "output_type": "stream",
     "text": [
      "6\n"
     ]
    }
   ],
   "source": [
    "for x in range(0, 10):\n",
    "    if x != 6:\n",
    "        continue # continue sends you to the next loop regardless of what is below in the code\n",
    "\n",
    "    print(x)"
   ]
  },
  {
   "cell_type": "markdown",
   "metadata": {},
   "source": [
    "### break \n",
    "\n",
    "break : exits the loop"
   ]
  },
  {
   "cell_type": "code",
   "execution_count": 22,
   "metadata": {},
   "outputs": [
    {
     "name": "stdout",
     "output_type": "stream",
     "text": [
      "0\n",
      "1\n",
      "2\n",
      "3\n",
      "4\n",
      "5\n"
     ]
    }
   ],
   "source": [
    "for x in range(0, 10):\n",
    "    if x == 6:\n",
    "        break # break exits the loop \n",
    "    print(x)"
   ]
  },
  {
   "cell_type": "markdown",
   "metadata": {},
   "source": [
    "So here once we get to 6 we get to <b>break</b> and then we exit the loop"
   ]
  }
 ],
 "metadata": {
  "kernelspec": {
   "display_name": "Python 3",
   "language": "python",
   "name": "python3"
  },
  "language_info": {
   "codemirror_mode": {
    "name": "ipython",
    "version": 3
   },
   "file_extension": ".py",
   "mimetype": "text/x-python",
   "name": "python",
   "nbconvert_exporter": "python",
   "pygments_lexer": "ipython3",
   "version": "3.9.6"
  }
 },
 "nbformat": 4,
 "nbformat_minor": 2
}
